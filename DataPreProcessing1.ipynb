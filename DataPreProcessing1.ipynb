{
 "cells": [
  {
   "cell_type": "code",
   "execution_count": 1,
   "metadata": {},
   "outputs": [],
   "source": [
    "import pandas as pd\n",
    "import numpy as np\n",
    "from datetime import datetime\n",
    "dataset = []\n",
    "dataset1 = pd.read_excel(\"dataset/DATASET_1.xlsx\")\n",
    "dataset2 = pd.read_excel(\"dataset/DATASET_2.xlsx\")\n",
    "dataset3 = pd.read_excel(\"dataset/DATASET_3.xlsx\")\n",
    "dataset4 = pd.read_excel(\"dataset/DATASET_4.xlsx\")\n",
    "dataset5 = pd.read_excel(\"dataset/DATASET_5.xlsx\")\n",
    "dataset6 = pd.read_excel(\"dataset/DATASET_6.xlsx\")"
   ]
  },
  {
   "cell_type": "code",
   "execution_count": 2,
   "metadata": {},
   "outputs": [
    {
     "data": {
      "text/plain": [
       "(140, 11)"
      ]
     },
     "execution_count": 2,
     "metadata": {},
     "output_type": "execute_result"
    }
   ],
   "source": [
    "dataset3.rename(columns={'Place of Interest':'Place of interest', 'Leisure time Activity':'Leisure time activity',\n",
    "                     'Future Plan':'Future plan'}, inplace=True)\n",
    "dataset1.columns = ['ID','Current Place','Latitude cu_pl','Longitude cu_pl','Latitude pl_in','Longitude pl_in',\n",
    "                    'Place of interest','Food you like most','Leisure time activity',\n",
    "                    'Future plan','Typically your days are started at:']\n",
    "dataset2.columns = ['ID','Current Place','Latitude cu_pl','Longitude cu_pl','Latitude pl_in','Longitude pl_in',\n",
    "                    'Place of interest','Food you like most','Leisure time activity',\n",
    "                    'Future plan','Typically your days are started at:']\n",
    "dataset3.columns = ['ID','Current Place','Latitude cu_pl','Longitude cu_pl','Latitude pl_in','Longitude pl_in',\n",
    "                    'Place of interest','Food you like most','Leisure time activity',\n",
    "                    'Future plan','Typically your days are started at:']\n",
    "dataset4.columns = ['ID','Current Place','Latitude cu_pl','Longitude cu_pl','Latitude pl_in','Longitude pl_in',\n",
    "                    'Place of interest','Food you like most','Leisure time activity',\n",
    "                    'Future plan','Typically your days are started at:']\n",
    "dataset5.columns = ['ID','Current Place','Latitude cu_pl','Longitude cu_pl','Latitude pl_in','Longitude pl_in',\n",
    "                    'Place of interest','Food you like most','Leisure time activity',\n",
    "                    'Future plan','Typically your days are started at:']\n",
    "dataset6.columns = ['ID','Current Place','Latitude cu_pl','Longitude cu_pl','Latitude pl_in','Longitude pl_in',\n",
    "                    'Place of interest','Food you like most','Leisure time activity',\n",
    "                    'Future plan','Typically your days are started at:']\n"
   ]
  },
  {
   "cell_type": "code",
   "execution_count": 3,
   "metadata": {},
   "outputs": [
    {
     "data": {
      "text/plain": [
       "(103, 81)"
      ]
     },
     "execution_count": 3,
     "metadata": {},
     "output_type": "execute_result"
    }
   ],
   "source": [
    "dataset_extend = pd.read_excel(\"dataset/EXTENDED_1.xlsx\")\n",
    "dataset_extend\n",
    "dataset_extend.columns=['Timestamp', 'Score', 'ID', 'Gender', 'Height', 'Weight', 'CGPA',\n",
    "       'Daily spent time in social media (hour)', 'Hometown',\n",
    "       'How many days in a week you feel more energetic',\n",
    "       'Favorite transport mode', 'Favorite food names',\n",
    "       'Expected food price of that favorite food',\n",
    "       'Month cost for that particular food',\n",
    "       'What do you like home delivery or eat in the restaurant',\n",
    "       'University travel cost monthly', 'Hobby', 'Travel package you prefer',\n",
    "       'Sickness-frequency in a month',\n",
    "       'Favorite food in summer/winter/rainy season', 'Food flavor',\n",
    "       'Hangout location(Spend most of the time)', 'Typically you go out with',\n",
    "       'Travel budget', 'favourite restaurant', 'Unnamed: 25',\n",
    "       'Restaurant location', 'Live with family(y/n)',\n",
    "       'Are you happy with current situation?',\n",
    "       'Number of programming hours spent per day', 'Sleep duration',\n",
    "       'Do you start your day by planning(y/n)',\n",
    "       'Do you have online shopping experience (y/n)',\n",
    "       'Do you use products for grooming(y/n)',\n",
    "       'Favourite food in rainy season', 'Prefers(food_quality/environment)',\n",
    "       'No of time home delivery over a month(Number)',\n",
    "       'No of time goes to restaurant over a month( n umber)',\n",
    "       'Pickup location of yours for bus', 'Pickup time of yours for bus',\n",
    "       'Your bank name', 'Preferred shopping area',\n",
    "       'Monthly frequencies of shopping',\n",
    "       'Do you prefer to play in Gaming Zone ?', 'Are you fashion active',\n",
    "       'Which colour do you prefer(red/yellow)?',\n",
    "       'Which cloths do you choose to wear(urban/linen shirt and trousers/jeans&shirt)?',\n",
    "       \"Do you feel low seeing other people's achievement on social media\",\n",
    "       'Recently how many of your family members/neighbours affected by dengue',\n",
    "       'do you find bargaining pleasing?',\n",
    "       'Actual motive behind your future goal?',\n",
    "       'Would you still pursue your goal if the motive behind it is fulfilled in another way?',\n",
    "       'Do you think it is a good idea to go to a well known shop just for the sake of social status?why?',\n",
    "       'How much do you earn monthly?', 'Wake up time?',\n",
    "       'When is your class starting time', 'When is your class ending time',\n",
    "       'What do you love most?', 'Are you satisfied with your country’s law?',\n",
    "       'Which law do you prefer more?',\n",
    "       'What’s your view about law enforcement groups?',\n",
    "       'Are you eager to harm yourself to defend your beliefs?',\n",
    "       'How frequently you visit a doctor within a year\"',\n",
    "       'How many people do you follow on social media?',\n",
    "       'How much time you spend in university without academic curriculum(in hour)?',\n",
    "       'Are you rich in vocabulary?',\n",
    "       'Class note taking tendency(High,Low,Medium)',\n",
    "       'Theory class attendance(High,Low,Medium)', 'Theory class interest(h,l,m)',\n",
    "       'Lab interest(h,l,m)',\n",
    "       'Preference(class lectures cl or online tutorials)'\n",
    "]\n",
    "dataset_merge = pd.merge(data_concate,dataset_extend)\n",
    "dataset_merge.shape"
   ]
  },
  {
   "cell_type": "code",
   "execution_count": 4,
   "metadata": {},
   "outputs": [],
   "source": [
    "dataset_merge.to_excel(\"mergedata1.xlsx\")"
   ]
  },
  {
   "cell_type": "code",
   "execution_count": 5,
   "metadata": {},
   "outputs": [
    {
     "data": {
      "text/html": [
       "<div>\n",
       "<style scoped>\n",
       "    .dataframe tbody tr th:only-of-type {\n",
       "        vertical-align: middle;\n",
       "    }\n",
       "\n",
       "    .dataframe tbody tr th {\n",
       "        vertical-align: top;\n",
       "    }\n",
       "\n",
       "    .dataframe thead th {\n",
       "        text-align: right;\n",
       "    }\n",
       "</style>\n",
       "<table border=\"1\" class=\"dataframe\">\n",
       "  <thead>\n",
       "    <tr style=\"text-align: right;\">\n",
       "      <th></th>\n",
       "      <th>ID</th>\n",
       "      <th>Recently how many of your family members/neighbours affected by dengue</th>\n",
       "      <th>Current Place</th>\n",
       "    </tr>\n",
       "  </thead>\n",
       "  <tbody>\n",
       "    <tr>\n",
       "      <th>0</th>\n",
       "      <td>151340976.0</td>\n",
       "      <td>none</td>\n",
       "      <td>Goran</td>\n",
       "    </tr>\n",
       "    <tr>\n",
       "      <th>1</th>\n",
       "      <td>151340977.0</td>\n",
       "      <td>1</td>\n",
       "      <td>Banasree</td>\n",
       "    </tr>\n",
       "    <tr>\n",
       "      <th>2</th>\n",
       "      <td>151340980.0</td>\n",
       "      <td>none</td>\n",
       "      <td>Niketon</td>\n",
       "    </tr>\n",
       "    <tr>\n",
       "      <th>3</th>\n",
       "      <td>151340981.0</td>\n",
       "      <td>none</td>\n",
       "      <td>Shaymoli</td>\n",
       "    </tr>\n",
       "    <tr>\n",
       "      <th>4</th>\n",
       "      <td>151340982.0</td>\n",
       "      <td>0</td>\n",
       "      <td>Bangshal</td>\n",
       "    </tr>\n",
       "  </tbody>\n",
       "</table>\n",
       "</div>"
      ],
      "text/plain": [
       "            ID  \\\n",
       "0  151340976.0   \n",
       "1  151340977.0   \n",
       "2  151340980.0   \n",
       "3  151340981.0   \n",
       "4  151340982.0   \n",
       "\n",
       "  Recently how many of your family members/neighbours affected by dengue  \\\n",
       "0                                               none                       \n",
       "1                                                  1                       \n",
       "2                                               none                       \n",
       "3                                               none                       \n",
       "4                                                  0                       \n",
       "\n",
       "  Current Place  \n",
       "0         Goran  \n",
       "1      Banasree  \n",
       "2       Niketon  \n",
       "3      Shaymoli  \n",
       "4      Bangshal  "
      ]
     },
     "execution_count": 5,
     "metadata": {},
     "output_type": "execute_result"
    }
   ],
   "source": [
    "coulum_name_for_dataset = ['ID','Recently how many of your family members/neighbours affected by dengue','Current Place' ]\n",
    "new_dataset = dataset_merge[coulum_name_for_dataset]\n",
    "new_dataset.head()"
   ]
  },
  {
   "cell_type": "code",
   "execution_count": 7,
   "metadata": {},
   "outputs": [
    {
     "name": "stderr",
     "output_type": "stream",
     "text": [
      "C:\\ProgramData\\Anaconda3\\lib\\site-packages\\ipykernel_launcher.py:2: SettingWithCopyWarning: \n",
      "A value is trying to be set on a copy of a slice from a DataFrame.\n",
      "Try using .loc[row_indexer,col_indexer] = value instead\n",
      "\n",
      "See the caveats in the documentation: http://pandas.pydata.org/pandas-docs/stable/indexing.html#indexing-view-versus-copy\n",
      "  \n"
     ]
    },
    {
     "data": {
      "text/html": [
       "<div>\n",
       "<style scoped>\n",
       "    .dataframe tbody tr th:only-of-type {\n",
       "        vertical-align: middle;\n",
       "    }\n",
       "\n",
       "    .dataframe tbody tr th {\n",
       "        vertical-align: top;\n",
       "    }\n",
       "\n",
       "    .dataframe thead th {\n",
       "        text-align: right;\n",
       "    }\n",
       "</style>\n",
       "<table border=\"1\" class=\"dataframe\">\n",
       "  <thead>\n",
       "    <tr style=\"text-align: right;\">\n",
       "      <th></th>\n",
       "      <th>ID</th>\n",
       "      <th>Recently how many of your family members/neighbours affected by dengue</th>\n",
       "      <th>Current Place</th>\n",
       "    </tr>\n",
       "  </thead>\n",
       "  <tbody>\n",
       "    <tr>\n",
       "      <th>0</th>\n",
       "      <td>151340976.0</td>\n",
       "      <td>0</td>\n",
       "      <td>Goran</td>\n",
       "    </tr>\n",
       "    <tr>\n",
       "      <th>1</th>\n",
       "      <td>151340977.0</td>\n",
       "      <td>1</td>\n",
       "      <td>Banasree</td>\n",
       "    </tr>\n",
       "    <tr>\n",
       "      <th>2</th>\n",
       "      <td>151340980.0</td>\n",
       "      <td>0</td>\n",
       "      <td>Niketon</td>\n",
       "    </tr>\n",
       "    <tr>\n",
       "      <th>3</th>\n",
       "      <td>151340981.0</td>\n",
       "      <td>0</td>\n",
       "      <td>Shaymoli</td>\n",
       "    </tr>\n",
       "    <tr>\n",
       "      <th>4</th>\n",
       "      <td>151340982.0</td>\n",
       "      <td>0</td>\n",
       "      <td>Bangshal</td>\n",
       "    </tr>\n",
       "  </tbody>\n",
       "</table>\n",
       "</div>"
      ],
      "text/plain": [
       "            ID  \\\n",
       "0  151340976.0   \n",
       "1  151340977.0   \n",
       "2  151340980.0   \n",
       "3  151340981.0   \n",
       "4  151340982.0   \n",
       "\n",
       "  Recently how many of your family members/neighbours affected by dengue  \\\n",
       "0                                                  0                       \n",
       "1                                                  1                       \n",
       "2                                                  0                       \n",
       "3                                                  0                       \n",
       "4                                                  0                       \n",
       "\n",
       "  Current Place  \n",
       "0         Goran  \n",
       "1      Banasree  \n",
       "2       Niketon  \n",
       "3      Shaymoli  \n",
       "4      Bangshal  "
      ]
     },
     "execution_count": 7,
     "metadata": {},
     "output_type": "execute_result"
    }
   ],
   "source": [
    "\n",
    "new_dataset_update['Recently how many of your family members/neighbours affected by dengue']=new_dataset_update['Recently how many of your family members/neighbours affected by dengue'].replace({'none': '0' \n",
    "                        \n",
    " \n",
    "                                                 })\n",
    "new_dataset_update.head()"
   ]
  },
  {
   "cell_type": "code",
   "execution_count": 8,
   "metadata": {},
   "outputs": [],
   "source": [
    "new_dataset_update.to_excel(\"Dataset2.xlsx\")"
   ]
  },
  {
   "cell_type": "code",
   "execution_count": 9,
   "metadata": {},
   "outputs": [],
   "source": [
    "import pandas as pd\n",
    "import numpy as np\n",
    "import math\n",
    "import operator\n",
    "from collections import Counter\n",
    "from matplotlib import pyplot as plt\n",
    "from sklearn.model_selection import train_test_split\n",
    "from sklearn.neighbors import KNeighborsClassifier\n",
    "from sklearn.metrics import accuracy_score  \n",
    "from sklearn.metrics import confusion_matrix\n",
    "from sklearn.preprocessing import StandardScaler\n",
    "from sklearn.naive_bayes import MultinomialNB\n",
    "from sklearn import metrics\n",
    "from sklearn.svm import SVC,SVR\n"
   ]
  },
  {
   "cell_type": "code",
   "execution_count": 10,
   "metadata": {},
   "outputs": [
    {
     "data": {
      "text/html": [
       "<div>\n",
       "<style scoped>\n",
       "    .dataframe tbody tr th:only-of-type {\n",
       "        vertical-align: middle;\n",
       "    }\n",
       "\n",
       "    .dataframe tbody tr th {\n",
       "        vertical-align: top;\n",
       "    }\n",
       "\n",
       "    .dataframe thead th {\n",
       "        text-align: right;\n",
       "    }\n",
       "</style>\n",
       "<table border=\"1\" class=\"dataframe\">\n",
       "  <thead>\n",
       "    <tr style=\"text-align: right;\">\n",
       "      <th></th>\n",
       "      <th>ID</th>\n",
       "      <th>Recently how many of your family members/neighbours affected by dengue</th>\n",
       "      <th>Current Place</th>\n",
       "    </tr>\n",
       "  </thead>\n",
       "  <tbody>\n",
       "    <tr>\n",
       "      <th>0</th>\n",
       "      <td>151340976</td>\n",
       "      <td>0</td>\n",
       "      <td>Goran</td>\n",
       "    </tr>\n",
       "    <tr>\n",
       "      <th>1</th>\n",
       "      <td>151340977</td>\n",
       "      <td>1</td>\n",
       "      <td>Banasree</td>\n",
       "    </tr>\n",
       "    <tr>\n",
       "      <th>2</th>\n",
       "      <td>151340980</td>\n",
       "      <td>0</td>\n",
       "      <td>Niketon</td>\n",
       "    </tr>\n",
       "    <tr>\n",
       "      <th>3</th>\n",
       "      <td>151340981</td>\n",
       "      <td>0</td>\n",
       "      <td>Shaymoli</td>\n",
       "    </tr>\n",
       "    <tr>\n",
       "      <th>4</th>\n",
       "      <td>151340982</td>\n",
       "      <td>0</td>\n",
       "      <td>Bangshal</td>\n",
       "    </tr>\n",
       "  </tbody>\n",
       "</table>\n",
       "</div>"
      ],
      "text/plain": [
       "          ID  \\\n",
       "0  151340976   \n",
       "1  151340977   \n",
       "2  151340980   \n",
       "3  151340981   \n",
       "4  151340982   \n",
       "\n",
       "  Recently how many of your family members/neighbours affected by dengue  \\\n",
       "0                                                  0                       \n",
       "1                                                  1                       \n",
       "2                                                  0                       \n",
       "3                                                  0                       \n",
       "4                                                  0                       \n",
       "\n",
       "  Current Place  \n",
       "0         Goran  \n",
       "1      Banasree  \n",
       "2       Niketon  \n",
       "3      Shaymoli  \n",
       "4      Bangshal  "
      ]
     },
     "execution_count": 10,
     "metadata": {},
     "output_type": "execute_result"
    }
   ],
   "source": [
    "dataset_new = pd.read_excel(\"Dataset2.xlsx\")\n",
    "columns = ['ID','Recently how many of your family members/neighbours affected by dengue','Current Place']\n",
    "dataset_new_update = dataset_new[columns]\n",
    "dataset_new_update.head()"
   ]
  },
  {
   "cell_type": "code",
   "execution_count": 13,
   "metadata": {},
   "outputs": [
    {
     "name": "stderr",
     "output_type": "stream",
     "text": [
      "C:\\ProgramData\\Anaconda3\\lib\\site-packages\\ipykernel_launcher.py:1: SettingWithCopyWarning: \n",
      "A value is trying to be set on a copy of a slice from a DataFrame.\n",
      "Try using .loc[row_indexer,col_indexer] = value instead\n",
      "\n",
      "See the caveats in the documentation: http://pandas.pydata.org/pandas-docs/stable/indexing.html#indexing-view-versus-copy\n",
      "  \"\"\"Entry point for launching an IPython kernel.\n",
      "C:\\ProgramData\\Anaconda3\\lib\\site-packages\\ipykernel_launcher.py:2: SettingWithCopyWarning: \n",
      "A value is trying to be set on a copy of a slice from a DataFrame.\n",
      "Try using .loc[row_indexer,col_indexer] = value instead\n",
      "\n",
      "See the caveats in the documentation: http://pandas.pydata.org/pandas-docs/stable/indexing.html#indexing-view-versus-copy\n",
      "  \n",
      "C:\\ProgramData\\Anaconda3\\lib\\site-packages\\ipykernel_launcher.py:3: SettingWithCopyWarning: \n",
      "A value is trying to be set on a copy of a slice from a DataFrame.\n",
      "Try using .loc[row_indexer,col_indexer] = value instead\n",
      "\n",
      "See the caveats in the documentation: http://pandas.pydata.org/pandas-docs/stable/indexing.html#indexing-view-versus-copy\n",
      "  This is separate from the ipykernel package so we can avoid doing imports until\n"
     ]
    },
    {
     "data": {
      "text/html": [
       "<div>\n",
       "<style scoped>\n",
       "    .dataframe tbody tr th:only-of-type {\n",
       "        vertical-align: middle;\n",
       "    }\n",
       "\n",
       "    .dataframe tbody tr th {\n",
       "        vertical-align: top;\n",
       "    }\n",
       "\n",
       "    .dataframe thead th {\n",
       "        text-align: right;\n",
       "    }\n",
       "</style>\n",
       "<table border=\"1\" class=\"dataframe\">\n",
       "  <thead>\n",
       "    <tr style=\"text-align: right;\">\n",
       "      <th></th>\n",
       "      <th>ID</th>\n",
       "      <th>Recently how many of your family members/neighbours affected by dengue</th>\n",
       "      <th>Current Place</th>\n",
       "    </tr>\n",
       "  </thead>\n",
       "  <tbody>\n",
       "    <tr>\n",
       "      <th>0</th>\n",
       "      <td>151340976</td>\n",
       "      <td>1</td>\n",
       "      <td>1</td>\n",
       "    </tr>\n",
       "    <tr>\n",
       "      <th>1</th>\n",
       "      <td>151340977</td>\n",
       "      <td>2</td>\n",
       "      <td>2</td>\n",
       "    </tr>\n",
       "    <tr>\n",
       "      <th>2</th>\n",
       "      <td>151340980</td>\n",
       "      <td>1</td>\n",
       "      <td>3</td>\n",
       "    </tr>\n",
       "    <tr>\n",
       "      <th>3</th>\n",
       "      <td>151340981</td>\n",
       "      <td>1</td>\n",
       "      <td>4</td>\n",
       "    </tr>\n",
       "    <tr>\n",
       "      <th>4</th>\n",
       "      <td>151340982</td>\n",
       "      <td>3</td>\n",
       "      <td>5</td>\n",
       "    </tr>\n",
       "  </tbody>\n",
       "</table>\n",
       "</div>"
      ],
      "text/plain": [
       "          ID  \\\n",
       "0  151340976   \n",
       "1  151340977   \n",
       "2  151340980   \n",
       "3  151340981   \n",
       "4  151340982   \n",
       "\n",
       "   Recently how many of your family members/neighbours affected by dengue  \\\n",
       "0                                                  1                        \n",
       "1                                                  2                        \n",
       "2                                                  1                        \n",
       "3                                                  1                        \n",
       "4                                                  3                        \n",
       "\n",
       "   Current Place  \n",
       "0              1  \n",
       "1              2  \n",
       "2              3  \n",
       "3              4  \n",
       "4              5  "
      ]
     },
     "execution_count": 13,
     "metadata": {},
     "output_type": "execute_result"
    }
   ],
   "source": [
    "dataset_new_update[\"Current Place\"] = dataset_new_update[\"Current Place\"].astype('category')\n",
    "dataset_new_update[\"Current Place\"] = pd.factorize(dataset_new_update[\"Current Place\"])[0] + 1\n",
    "dataset_new_update[\"Recently how many of your family members/neighbours affected by dengue\"] = pd.factorize(dataset_new_update[\"Recently how many of your family members/neighbours affected by dengue\"])[0] + 1\n",
    "dataset_new_update.head()\n"
   ]
  },
  {
   "cell_type": "code",
   "execution_count": 14,
   "metadata": {},
   "outputs": [
    {
     "data": {
      "text/plain": [
       "<matplotlib.axes._subplots.AxesSubplot at 0x1a846683dd8>"
      ]
     },
     "execution_count": 14,
     "metadata": {},
     "output_type": "execute_result"
    },
    {
     "data": {
      "image/png": "[encoded data removed]",
      "text/plain": [
       "<Figure size 432x288 with 1 Axes>"
      ]
     },
     "metadata": {
      "needs_background": "light"
     },
     "output_type": "display_data"
    }
   ],
   "source": [
    "dataset_new_update.boxplot(by=['Current Place'], column=['Recently how many of your family members/neighbours affected by dengue'], grid= True)"
   ]
  },
  {
   "cell_type": "code",
   "execution_count": 16,
   "metadata": {},
   "outputs": [
    {
     "data": {
      "image/png": "[encoded data removed]",
      "text/plain": [
       "<Figure size 432x288 with 1 Axes>"
      ]
     },
     "metadata": {},
     "output_type": "display_data"
    }
   ],
   "source": [
    "import seaborn as sns\n",
    "sns.set(style=\"whitegrid\")\n",
    "\n",
    "ax = sns.countplot(x=\"Current Place\", data=dataset_new_update)"
   ]
  },
  {
   "cell_type": "code",
   "execution_count": 41,
   "metadata": {},
   "outputs": [
    {
     "name": "stdout",
     "output_type": "stream",
     "text": [
      "Accuracy with 3 neighbours:  0.08695652173913043\n"
     ]
    }
   ],
   "source": [
    "D=dataset_new_update.values\n",
    "X = D[:,:-1]\n",
    "y = D[:,-1]\n",
    "X_train, X_test, Y_train, Y_test = train_test_split(X, y, test_size=0.22)\n",
    "clf = KNeighborsClassifier(n_neighbors=3)\n",
    "clf.fit(X_train.astype(int), Y_train)\n",
    "yPred=clf.predict(X_test.astype(int))\n",
    "acc=accuracy_score(Y_test.astype(int), yPred.astype(int))\n",
    "print('Accuracy with 3 neighbours: ',acc)"
   ]
  },
  {
   "cell_type": "code",
   "execution_count": 44,
   "metadata": {},
   "outputs": [],
   "source": [
    "def plot_conf_mat(lTrue, lPred, title):\n",
    "    \"\"\" A function for plotting the confusion matrix given true and predicted labels.\"\"\"\n",
    "    cm = confusion_matrix(lTrue.astype(int), lPred.astype(int))\n",
    "    print(cm)\n",
    "    fig = plt.figure()\n",
    "    ax = fig.add_subplot(111)\n",
    "    cax = ax.matshow(cm)\n",
    "    plt.title(title)\n",
    "    plt.xlabel('Predicted')\n",
    "    plt.ylabel('True')\n",
    "    plt.show()\n",
    "    "
   ]
  },
  {
   "cell_type": "code",
   "execution_count": 45,
   "metadata": {},
   "outputs": [
    {
     "name": "stdout",
     "output_type": "stream",
     "text": [
      "[[0 0 0 0 0 0 0 0 0 0 0 0 0 0 0 0 0 0 0 0 0 0 0 0 0 0 0 0 0]\n",
      " [1 0 0 0 0 0 0 0 0 0 0 0 0 0 0 0 0 0 0 0 0 0 0 0 0 0 0 0 0]\n",
      " [0 0 0 1 0 0 0 0 0 0 0 0 0 0 0 0 0 0 0 0 0 0 0 0 0 0 0 0 0]\n",
      " [0 0 0 0 0 0 0 0 0 0 0 0 0 0 0 0 0 0 0 0 0 0 0 0 0 0 0 0 0]\n",
      " [0 0 0 0 0 0 0 0 0 0 0 0 0 0 0 0 0 0 0 0 0 0 0 0 0 0 0 0 0]\n",
      " [0 0 0 0 0 1 0 0 0 0 0 1 0 0 0 0 0 0 0 0 0 0 0 0 0 0 0 0 0]\n",
      " [0 1 0 0 1 0 0 0 0 0 0 0 0 0 0 0 0 0 0 0 0 0 0 0 0 0 0 0 0]\n",
      " [0 0 0 0 0 0 0 0 0 0 0 0 0 0 0 0 0 0 0 0 0 0 0 0 0 0 0 0 0]\n",
      " [0 0 0 0 0 0 0 1 0 0 0 0 0 0 0 0 0 0 0 0 0 0 0 0 0 0 0 0 0]\n",
      " [0 0 0 0 0 1 0 0 0 0 0 1 1 0 0 0 0 0 0 0 0 0 0 0 0 0 0 0 0]\n",
      " [0 0 0 0 0 0 0 0 0 0 0 1 0 0 0 0 0 0 0 0 0 0 0 0 0 0 0 0 0]\n",
      " [0 0 0 0 0 0 0 0 0 0 0 0 0 0 0 0 0 0 0 0 0 0 0 0 0 0 0 0 0]\n",
      " [0 0 0 0 0 0 0 0 0 0 0 0 0 0 0 0 0 0 0 0 0 0 0 0 0 0 0 0 0]\n",
      " [0 0 0 0 0 0 0 0 0 0 0 0 0 0 0 1 0 0 0 0 0 0 0 0 0 0 0 0 0]\n",
      " [0 0 0 0 0 0 0 0 0 0 0 0 0 0 0 0 0 0 0 0 0 0 0 0 0 0 0 0 0]\n",
      " [0 0 0 0 0 0 0 0 0 0 0 0 0 0 0 1 0 0 0 0 0 0 0 0 0 0 0 0 0]\n",
      " [0 0 0 0 0 0 0 0 0 0 0 0 0 0 0 0 0 0 0 0 0 0 0 0 0 0 0 0 0]\n",
      " [0 0 0 0 0 0 0 0 0 0 0 0 0 0 1 0 0 0 0 0 0 0 0 0 0 0 0 0 0]\n",
      " [0 0 0 0 0 0 0 0 0 0 0 0 0 0 0 0 0 0 0 0 0 0 0 0 0 0 0 0 0]\n",
      " [0 0 0 0 0 0 0 0 0 0 0 0 0 0 0 0 0 0 0 0 0 0 0 0 0 0 0 0 0]\n",
      " [0 0 0 0 0 0 0 0 0 0 0 0 0 0 0 0 1 0 0 0 0 0 0 0 0 0 0 0 0]\n",
      " [0 1 0 0 0 0 0 0 0 0 0 0 0 0 0 0 0 0 0 0 0 0 0 0 0 0 0 0 0]\n",
      " [0 0 0 0 0 0 0 0 0 0 0 0 0 0 0 0 0 0 1 0 0 0 0 0 0 0 0 0 0]\n",
      " [0 1 0 0 0 0 0 0 0 0 0 0 0 0 0 0 0 0 0 0 0 0 0 0 0 0 0 0 0]\n",
      " [0 0 0 0 0 0 0 0 0 0 0 0 0 0 0 0 0 0 0 1 0 0 0 0 0 0 0 0 0]\n",
      " [0 0 0 0 0 0 0 0 1 0 0 0 0 0 0 0 0 0 0 0 0 0 0 0 0 0 0 0 0]\n",
      " [0 0 0 0 0 1 0 0 0 0 0 0 0 0 0 0 0 0 0 0 0 0 0 0 0 0 0 0 0]\n",
      " [0 0 1 0 0 0 0 0 0 0 0 0 0 0 0 0 0 0 0 0 0 0 0 0 0 0 0 0 0]\n",
      " [0 0 1 0 0 0 0 0 0 0 0 0 0 0 0 0 0 0 0 0 0 0 0 0 0 0 0 0 0]]\n"
     ]
    },
    {
     "data": {
      "image/png": "[encoded data removed]",
      "text/plain": [
       "<Figure size 432x288 with 1 Axes>"
      ]
     },
     "metadata": {},
     "output_type": "display_data"
    }
   ],
   "source": [
    "plot_conf_mat(Y_test, yPred, 'K=3')"
   ]
  },
  {
   "cell_type": "code",
   "execution_count": null,
   "metadata": {},
   "outputs": [],
   "source": []
  }
 ],
 "metadata": {
  "kernelspec": {
   "display_name": "Python 3",
   "language": "python",
   "name": "python3"
  },
  "language_info": {
   "codemirror_mode": {
    "name": "ipython",
    "version": 3
   },
   "file_extension": ".py",
   "mimetype": "text/x-python",
   "name": "python",
   "nbconvert_exporter": "python",
   "pygments_lexer": "ipython3",
   "version": "3.7.3"
  }
 },
 "nbformat": 4,
 "nbformat_minor": 2
}
